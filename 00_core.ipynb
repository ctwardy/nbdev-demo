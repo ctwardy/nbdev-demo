{
 "cells": [
  {
   "cell_type": "code",
   "execution_count": null,
   "metadata": {},
   "outputs": [],
   "source": [
    "# default_exp core"
   ]
  },
  {
   "cell_type": "markdown",
   "metadata": {},
   "source": [
    "# mydemo\n",
    "\n",
    "> A super demo for nbdev."
   ]
  },
  {
   "cell_type": "code",
   "execution_count": null,
   "metadata": {},
   "outputs": [],
   "source": [
    "#hide\n",
    "from nbdev.showdoc import *"
   ]
  },
  {
   "cell_type": "code",
   "execution_count": null,
   "metadata": {},
   "outputs": [
    {
     "name": "stderr",
     "output_type": "stream",
     "text": [
      "/opt/anaconda3/envs/peregrine/lib/python3.7/site-packages/ipykernel_launcher.py:5: FutureWarning: pandas.util.testing is deprecated. Use the functions in the public API at pandas.testing instead.\n",
      "  \"\"\"\n"
     ]
    }
   ],
   "source": [
    "# export \n",
    "\n",
    "import pandas.util.testing as tm\n",
    "import pandas as pd\n",
    "from pandas.api.types import is_numeric_dtype as isnum\n",
    "#from matplotlib.pyplot import rcParams"
   ]
  },
  {
   "cell_type": "markdown",
   "metadata": {},
   "source": [
    "# Generalized Discretization\n",
    "\n",
    "Discretize a whole dataframe into at most $N$ categories:\n",
    "* Bin numerics into $≤N$ bins.\n",
    "* Use only the Top $N$ categories, and \"Other\".\n",
    "\n",
    "For QuickLooks, BN learning, and other household uses.\n"
   ]
  },
  {
   "cell_type": "markdown",
   "metadata": {},
   "source": [
    "**TODO:** Try Maya Gilad's [approach](https://medium.com/gett-engineering/handling-rare-categorical-values-in-pandas-d1e3f17475f0) -- move the _bottom x%_ into 'Other':\n",
    "```python\n",
    "field = df[FILENAME]\n",
    "field.mask(field.map(\n",
    "    field.value_counts(normalize=True)) < 0.01, 'Other')\n",
    "```\n",
    "\n"
   ]
  },
  {
   "cell_type": "markdown",
   "metadata": {},
   "source": [
    "### is_numeric"
   ]
  },
  {
   "cell_type": "code",
   "execution_count": null,
   "metadata": {},
   "outputs": [],
   "source": [
    "# export\n",
    "\n",
    "def is_numeric(col:str):\n",
    "    \"\"\"Returns True iff already numeric, or can be coerced.\n",
    "    Usage: df.apply(is_numeric)\n",
    "    Usage: is_numeric(df['colname'])\n",
    "\n",
    "    Returns Boolean series.\n",
    "\n",
    "    From:\n",
    "    https://stackoverflow.com/questions/54426845/how-to-check-if-a-pandas-dataframe-contains-only-numeric-column-wise\n",
    "\n",
    "    \"\"\"\n",
    "    return isnum(col) or pd.to_numeric(col, errors='coerce').notnull().all()"
   ]
  },
  {
   "cell_type": "markdown",
   "metadata": {},
   "source": [
    "Always define tests!  \n",
    "\n",
    "_(Usually do not export them!)_"
   ]
  },
  {
   "cell_type": "code",
   "execution_count": null,
   "metadata": {},
   "outputs": [],
   "source": [
    "df = tm.makeMixedDataFrame()\n",
    "assert all(df.apply(is_numeric) == [True, True, False, True])"
   ]
  },
  {
   "cell_type": "markdown",
   "metadata": {},
   "source": [
    "### drop_singletons"
   ]
  },
  {
   "cell_type": "code",
   "execution_count": null,
   "metadata": {},
   "outputs": [],
   "source": [
    "# export\n",
    "\n",
    "def drop_singletons(df, verbose=1) -> None:\n",
    "    \"\"\"Drop columns with < 2 unique values. Inplace.\"\"\"\n",
    "    dropcols = []\n",
    "    for col in df:\n",
    "        if len(df[col].unique()) < 2:\n",
    "            df.drop(columns=col, inplace=True)\n",
    "            dropcols.append(col)\n",
    "    if verbose:\n",
    "        print(f\"  DROPPED {dropcols} because < 2 vals each.\")"
   ]
  },
  {
   "cell_type": "markdown",
   "metadata": {},
   "source": [
    "Note that pd.NA and np.nan are values, so columns with *only* NA will be dropped, but columns NA and one other value remain."
   ]
  },
  {
   "cell_type": "code",
   "execution_count": null,
   "metadata": {},
   "outputs": [
    {
     "name": "stdout",
     "output_type": "stream",
     "text": [
      "  DROPPED ['E', 'H'] because < 2 vals each.\n"
     ]
    }
   ],
   "source": [
    "df = tm.makeMixedDataFrame()\n",
    "df['E'] = [1, 1, 1, 1, 1]\n",
    "df['F'] = pd.Series([1, 1, 1, None, None]).astype('UInt8')\n",
    "df['G'] = pd.Series([1, 1, 1, None, None]).astype('float')\n",
    "df['H'] = pd.Series([None]*5).astype('UInt8')\n",
    "\n",
    "drop_singletons(df)"
   ]
  },
  {
   "cell_type": "code",
   "execution_count": null,
   "metadata": {},
   "outputs": [],
   "source": [
    "assert all(df.columns == ['A', 'B', 'C', 'D', 'F', 'G'])"
   ]
  },
  {
   "cell_type": "markdown",
   "metadata": {},
   "source": [
    "### discretize\n",
    "\n",
    "Woo-hoo!  It's all been leading to this.\n",
    "\n",
    "Seriously, these headers are redundant -- nbdev will _generate_ nice-looking docs using the function names and docstrings.  \n",
    "\n",
    "But that requires Github or setting up jekyll, and I broke my env. "
   ]
  },
  {
   "cell_type": "code",
   "execution_count": null,
   "metadata": {},
   "outputs": [],
   "source": [
    "# export\n",
    "\n",
    "def discretize(df, nbins=10, cut=pd.qcut,\n",
    "               verbose=2, drop_useless=True):\n",
    "    \"\"\"Discretize columns in {df} to have at most {nbins} categories.\n",
    "      * Categorical columns: take the Top n-1 plus \"Other\"\n",
    "      * Continuous columns: cut into {nbins} using {cut}.\n",
    "\n",
    "    Returns a new discretized dataframe with the same column names.\n",
    "    Promotes discrete columns to categories.\n",
    "\n",
    "    Parameters\n",
    "    -----------\n",
    "    df: Dataframe to discretize\n",
    "    nbins: Max number of bins to use. May return fewer.\n",
    "    cut: Cutting method. Default `pd.qcut`. Consider pd.cut, or write your own.\n",
    "    verbose: 0: silent, 1: colnames, 2: (Default) top N for each column\n",
    "    drop_useless: Removes columns that have < 2 unique values.\n",
    "\n",
    "    Replaces numerical NA values with 'NA'.\n",
    "\n",
    "    \"\"\"\n",
    "    out = pd.DataFrame(index = df.index)\n",
    "    isnum = df.apply(is_numeric)\n",
    "    for col in df:\n",
    "        if verbose > 0:\n",
    "            print(col, end=':\\n\\t')\n",
    "        if isnum[col]:\n",
    "            out[col] = cut(df[col], nbins, duplicates='drop')\n",
    "        else:\n",
    "            topN = df[col].value_counts(dropna=False).head(nbins).keys()\n",
    "            # Promote to Category, add Other, Drop all but TopN\n",
    "            out[col] = df[col].astype('category')\n",
    "            try:\n",
    "                out[col] = out[col].cat.add_categories(['Other'])\n",
    "            except ValueError:\n",
    "                pass  # Already had 'Other'\n",
    "            out[col] = out[col].where(out[col].isin(topN), 'Other')\n",
    "            out[col] = out[col].cat.remove_unused_categories()\n",
    "        if verbose > 1:\n",
    "            print('\\n\\t'.join(out[col].value_counts(dropna=False, sort=False)\\\n",
    "                              .to_string().split('\\n')))\n",
    "        elif verbose > 0:\n",
    "            print()\n",
    "    if drop_useless is True:\n",
    "        drop_singletons(out)\n",
    "    return out"
   ]
  },
  {
   "cell_type": "markdown",
   "metadata": {},
   "source": [
    "This should drop 'B' as a singleton, bin the two continuous cols, and convert 'C' into 'foo3', 'foo4', and 'Other'."
   ]
  },
  {
   "cell_type": "code",
   "execution_count": null,
   "metadata": {},
   "outputs": [
    {
     "name": "stdout",
     "output_type": "stream",
     "text": [
      "A:\n",
      "\t(-0.001, 2.0]    3\n",
      "\t(2.0, 4.0]       2\n",
      "B:\n",
      "\t(-0.001, 1.0]    5\n",
      "C:\n",
      "\tfoo3     1\n",
      "\tfoo4     1\n",
      "\tOther    3\n",
      "D:\n",
      "\t(2008-12-31 23:59:59.999999999, 2009-01-05]    3\n",
      "\t(2009-01-05, 2009-01-07]                       2\n",
      "  DROPPED ['B'] because < 2 vals each.\n"
     ]
    }
   ],
   "source": [
    "df = tm.makeMixedDataFrame()\n",
    "df = discretize(df, nbins=2)"
   ]
  },
  {
   "cell_type": "code",
   "execution_count": null,
   "metadata": {},
   "outputs": [],
   "source": [
    "assert all(df.columns == ['A', 'C', 'D'])"
   ]
  },
  {
   "cell_type": "markdown",
   "metadata": {},
   "source": [
    "This is more of a \"visual\" test - no `assert` statement to fail."
   ]
  },
  {
   "cell_type": "code",
   "execution_count": null,
   "metadata": {},
   "outputs": [
    {
     "data": {
      "text/plain": [
       "[(-0.001, 2.0], (2.0, 4.0]]\n",
       "Categories (2, interval[float64]): [(-0.001, 2.0] < (2.0, 4.0]]"
      ]
     },
     "execution_count": null,
     "metadata": {},
     "output_type": "execute_result"
    }
   ],
   "source": [
    "df.A.unique()"
   ]
  },
  {
   "cell_type": "code",
   "execution_count": null,
   "metadata": {},
   "outputs": [],
   "source": [
    "# Hang on, not a stable test -- undefined ordering when group to Other.\n",
    "\n",
    "# assert all(df.C.unique() == ['Other', 'foo2', 'foo4'])"
   ]
  },
  {
   "cell_type": "markdown",
   "metadata": {},
   "source": [
    "## Plotting helpers..."
   ]
  },
  {
   "cell_type": "code",
   "execution_count": null,
   "metadata": {},
   "outputs": [],
   "source": []
  }
 ],
 "metadata": {
  "kernelspec": {
   "display_name": "Python 3 [profile=peregrine]",
   "language": "python",
   "name": "python3"
  }
 },
 "nbformat": 4,
 "nbformat_minor": 4
}
