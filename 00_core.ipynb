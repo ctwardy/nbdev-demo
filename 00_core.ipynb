{
 "cells": [
  {
   "cell_type": "code",
   "execution_count": null,
   "metadata": {},
   "outputs": [],
   "source": [
    "# default_exp core"
   ]
  },
  {
   "cell_type": "markdown",
   "metadata": {},
   "source": [
    "# mydemo\n",
    "\n",
    "> A super demo for nbdev."
   ]
  },
  {
   "cell_type": "code",
   "execution_count": null,
   "metadata": {},
   "outputs": [],
   "source": [
    "#hide\n",
    "from nbdev.showdoc import *"
   ]
  },
  {
   "cell_type": "code",
   "execution_count": null,
   "metadata": {},
   "outputs": [],
   "source": [
    "# export \n",
    "\n",
    "import pandas as pd\n",
    "from pandas.api.types import is_numeric_dtype as isnum\n",
    "#from matplotlib.pyplot import rcParams"
   ]
  },
  {
   "cell_type": "markdown",
   "metadata": {},
   "source": [
    "## Test Data"
   ]
  },
  {
   "cell_type": "markdown",
   "metadata": {},
   "source": [
    "Always follow each function with `assert` tests - `nbdev` will run them and alert you if something has gone wrong. _(Mark with `#test`, not `#export`!)_"
   ]
  },
  {
   "cell_type": "markdown",
   "metadata": {},
   "source": [
    "Alas, pandas 1.3 has dropped `pd.testing.util` which had 20ish functions to define test dataframes, so we have to write one. We'll call this before relevant tests."
   ]
  },
  {
   "cell_type": "code",
   "execution_count": null,
   "metadata": {},
   "outputs": [],
   "source": [
    "# export\n",
    "\n",
    "def makeMixedDataFrame():\n",
    "    '''Return a constant mixed-type dataframe [float, float, str, datetime]'''\n",
    "    return pd.DataFrame(\n",
    "        {'A': {0: 0.0, 1: 1.0, 2: 2.0, 3: 3.0, 4: 4.0},\n",
    "         'B': {0: 0.0, 1: 1.0, 2: 0.0, 3: 1.0, 4: 0.0},\n",
    "         'C': {0: 'foo1', 1: 'foo2', 2: 'foo3', 3: 'foo4', 4: 'foo5'},\n",
    "         'D': {0: pd.Timestamp('2009-01-01 00:00:00'),\n",
    "          1: pd.Timestamp('2009-01-02 00:00:00'),\n",
    "          2: pd.Timestamp('2009-01-05 00:00:00'),\n",
    "          3: pd.Timestamp('2009-01-06 00:00:00'),\n",
    "          4: pd.Timestamp('2009-01-07 00:00:00')}}\n",
    "    )\n",
    "\n",
    "def getCrashes(dataset='car_crashes'):\n",
    "    try:\n",
    "        import seaborn as sns\n",
    "        return sns.load_dataset(dataset)\n",
    "    except ModuleNotFoundError:\n",
    "        return pd.read_csv(f'https://raw.githubusercontent.com/mwaskom/seaborn-data/master/{dataset}.csv')\n"
   ]
  },
  {
   "cell_type": "code",
   "execution_count": null,
   "metadata": {},
   "outputs": [],
   "source": [
    "df = makeMixedDataFrame()\n",
    "assert df.loc[2,'A'] == 2.0\n",
    "assert df.loc[2,'C'] == 'foo3'\n",
    "assert df.loc[2,'D'] == pd.Timestamp('2009-01-05 00:00:00')"
   ]
  },
  {
   "cell_type": "code",
   "execution_count": null,
   "metadata": {},
   "outputs": [
    {
     "data": {
      "text/html": [
       "<div>\n",
       "<style scoped>\n",
       "    .dataframe tbody tr th:only-of-type {\n",
       "        vertical-align: middle;\n",
       "    }\n",
       "\n",
       "    .dataframe tbody tr th {\n",
       "        vertical-align: top;\n",
       "    }\n",
       "\n",
       "    .dataframe thead th {\n",
       "        text-align: right;\n",
       "    }\n",
       "</style>\n",
       "<table border=\"1\" class=\"dataframe\">\n",
       "  <thead>\n",
       "    <tr style=\"text-align: right;\">\n",
       "      <th></th>\n",
       "      <th>total</th>\n",
       "      <th>speeding</th>\n",
       "      <th>alcohol</th>\n",
       "      <th>not_distracted</th>\n",
       "      <th>no_previous</th>\n",
       "      <th>ins_premium</th>\n",
       "      <th>ins_losses</th>\n",
       "      <th>abbrev</th>\n",
       "    </tr>\n",
       "  </thead>\n",
       "  <tbody>\n",
       "    <tr>\n",
       "      <th>15</th>\n",
       "      <td>15.7</td>\n",
       "      <td>2.669</td>\n",
       "      <td>3.925</td>\n",
       "      <td>15.229</td>\n",
       "      <td>13.659</td>\n",
       "      <td>649.06</td>\n",
       "      <td>114.47</td>\n",
       "      <td>IA</td>\n",
       "    </tr>\n",
       "    <tr>\n",
       "      <th>47</th>\n",
       "      <td>10.6</td>\n",
       "      <td>4.452</td>\n",
       "      <td>3.498</td>\n",
       "      <td>8.692</td>\n",
       "      <td>9.116</td>\n",
       "      <td>890.03</td>\n",
       "      <td>111.62</td>\n",
       "      <td>WA</td>\n",
       "    </tr>\n",
       "    <tr>\n",
       "      <th>27</th>\n",
       "      <td>14.9</td>\n",
       "      <td>1.937</td>\n",
       "      <td>5.215</td>\n",
       "      <td>13.857</td>\n",
       "      <td>13.410</td>\n",
       "      <td>732.28</td>\n",
       "      <td>114.82</td>\n",
       "      <td>NE</td>\n",
       "    </tr>\n",
       "    <tr>\n",
       "      <th>36</th>\n",
       "      <td>19.9</td>\n",
       "      <td>6.368</td>\n",
       "      <td>5.771</td>\n",
       "      <td>18.308</td>\n",
       "      <td>18.706</td>\n",
       "      <td>881.51</td>\n",
       "      <td>178.86</td>\n",
       "      <td>OK</td>\n",
       "    </tr>\n",
       "    <tr>\n",
       "      <th>20</th>\n",
       "      <td>12.5</td>\n",
       "      <td>4.250</td>\n",
       "      <td>4.000</td>\n",
       "      <td>8.875</td>\n",
       "      <td>12.375</td>\n",
       "      <td>1048.78</td>\n",
       "      <td>192.70</td>\n",
       "      <td>MD</td>\n",
       "    </tr>\n",
       "  </tbody>\n",
       "</table>\n",
       "</div>"
      ],
      "text/plain": [
       "    total  speeding  alcohol  not_distracted  no_previous  ins_premium  \\\n",
       "15   15.7     2.669    3.925          15.229       13.659       649.06   \n",
       "47   10.6     4.452    3.498           8.692        9.116       890.03   \n",
       "27   14.9     1.937    5.215          13.857       13.410       732.28   \n",
       "36   19.9     6.368    5.771          18.308       18.706       881.51   \n",
       "20   12.5     4.250    4.000           8.875       12.375      1048.78   \n",
       "\n",
       "    ins_losses abbrev  \n",
       "15      114.47     IA  \n",
       "47      111.62     WA  \n",
       "27      114.82     NE  \n",
       "36      178.86     OK  \n",
       "20      192.70     MD  "
      ]
     },
     "execution_count": null,
     "metadata": {},
     "output_type": "execute_result"
    }
   ],
   "source": [
    "df = getCrashes()\n",
    "df.sample(5)"
   ]
  },
  {
   "cell_type": "markdown",
   "metadata": {},
   "source": [
    "# Generalized Discretization\n",
    "\n",
    "Discretize a whole dataframe into at most $N$ categories:\n",
    "* Bin numerics into $≤N$ bins.\n",
    "* Use only the Top $N$ categories, and \"Other\".\n",
    "\n",
    "For QuickLooks, BN learning, and other household uses.\n"
   ]
  },
  {
   "cell_type": "markdown",
   "metadata": {},
   "source": [
    "**TODO:** Try Maya Gilad's [approach](https://medium.com/gett-engineering/handling-rare-categorical-values-in-pandas-d1e3f17475f0) -- move the _bottom x%_ into 'Other':\n",
    "```python\n",
    "field = df[FILENAME]\n",
    "field.mask(field.map(\n",
    "    field.value_counts(normalize=True)) < 0.01, 'Other')\n",
    "```\n",
    "\n"
   ]
  },
  {
   "cell_type": "markdown",
   "metadata": {},
   "source": [
    "### is_numeric"
   ]
  },
  {
   "cell_type": "code",
   "execution_count": null,
   "metadata": {},
   "outputs": [],
   "source": [
    "# export\n",
    "\n",
    "def is_numeric(col:str):\n",
    "    \"\"\"Returns True iff already numeric, or can be coerced.\n",
    "    Usage: df.apply(is_numeric)\n",
    "    Usage: is_numeric(df['colname'])\n",
    "\n",
    "    Returns Boolean series.\n",
    "\n",
    "    From:\n",
    "    https://stackoverflow.com/questions/54426845/how-to-check-if-a-pandas-dataframe-contains-only-numeric-column-wise\n",
    "\n",
    "    \"\"\"\n",
    "    return isnum(col) or pd.to_numeric(col, errors='coerce').notnull().all()"
   ]
  },
  {
   "cell_type": "code",
   "execution_count": null,
   "metadata": {},
   "outputs": [],
   "source": [
    "# test \n",
    "df = makeMixedDataFrame()\n",
    "assert all(df.apply(is_numeric) == [True, True, False, True])"
   ]
  },
  {
   "cell_type": "markdown",
   "metadata": {},
   "source": [
    "### drop_singletons"
   ]
  },
  {
   "cell_type": "code",
   "execution_count": null,
   "metadata": {},
   "outputs": [],
   "source": [
    "# export\n",
    "\n",
    "def drop_singletons(df, verbose=1) -> None:\n",
    "    \"\"\"Drop columns with < 2 unique values. Inplace.\"\"\"\n",
    "    dropcols = []\n",
    "    for col in df:\n",
    "        if len(df[col].unique()) < 2:\n",
    "            df.drop(columns=col, inplace=True)\n",
    "            dropcols.append(col)\n",
    "    if verbose:\n",
    "        print(f\"  DROPPED {dropcols} because < 2 vals each.\")"
   ]
  },
  {
   "cell_type": "markdown",
   "metadata": {},
   "source": [
    "Note that pd.NA and np.nan are values, so columns with *only* NA will be dropped, but columns NA and one other value remain."
   ]
  },
  {
   "cell_type": "code",
   "execution_count": null,
   "metadata": {},
   "outputs": [
    {
     "name": "stdout",
     "output_type": "stream",
     "text": [
      "  DROPPED ['E', 'H'] because < 2 vals each.\n"
     ]
    }
   ],
   "source": [
    "# test \n",
    "df = makeMixedDataFrame()\n",
    "df['E'] = [1, 1, 1, 1, 1]\n",
    "df['F'] = pd.Series([1, 1, 1, None, None]).astype('UInt8')\n",
    "df['G'] = pd.Series([1, 1, 1, None, None]).astype('float')\n",
    "df['H'] = pd.Series([None]*5).astype('UInt8')\n",
    "\n",
    "drop_singletons(df)"
   ]
  },
  {
   "cell_type": "code",
   "execution_count": null,
   "metadata": {},
   "outputs": [],
   "source": [
    "# test \n",
    "assert all(df.columns == ['A', 'B', 'C', 'D', 'F', 'G'])"
   ]
  },
  {
   "cell_type": "markdown",
   "metadata": {},
   "source": [
    "### discretize\n",
    "\n",
    "Woo-hoo!  It's all been leading to this.\n",
    "\n",
    "Seriously, these headers are redundant -- nbdev will _generate_ nice-looking docs using the function names and docstrings.  \n",
    "\n",
    "But that requires Github or setting up jekyll, and I broke my env. "
   ]
  },
  {
   "cell_type": "code",
   "execution_count": null,
   "metadata": {},
   "outputs": [],
   "source": [
    "# export\n",
    "\n",
    "def discretize(df, nbins=10, cut=pd.qcut,\n",
    "               verbose=2, drop_useless=True):\n",
    "    \"\"\"Discretize columns in {df} to have at most {nbins} categories.\n",
    "      * Categorical columns: take the Top n-1 plus \"Other\"\n",
    "      * Continuous columns: cut into {nbins} using {cut}.\n",
    "\n",
    "    Returns a new discretized dataframe with the same column names.\n",
    "    Promotes discrete columns to categories.\n",
    "\n",
    "    Parameters\n",
    "    -----------\n",
    "    df: Dataframe to discretize\n",
    "    nbins: Max number of bins to use. May return fewer.\n",
    "    cut: Cutting method. Default `pd.qcut`. Consider pd.cut, or write your own.\n",
    "    verbose: 0: silent, 1: colnames, 2: (Default) top N for each column\n",
    "    drop_useless: Removes columns that have < 2 unique values.\n",
    "\n",
    "    Replaces numerical NA values with 'NA'.\n",
    "\n",
    "    \"\"\"\n",
    "    out = pd.DataFrame(index = df.index)\n",
    "    isnum = df.apply(is_numeric)\n",
    "    for col in df:\n",
    "        if verbose > 0:\n",
    "            print(col, end=':\\n\\t')\n",
    "        if isnum[col]:\n",
    "            out[col] = cut(df[col], nbins, duplicates='drop')\n",
    "        else:\n",
    "            topN = df[col].value_counts(dropna=False).head(nbins).keys()\n",
    "            # Promote to Category, add Other, Drop all but TopN\n",
    "            out[col] = df[col].astype('category')\n",
    "            try:\n",
    "                out[col] = out[col].cat.add_categories(['Other'])\n",
    "            except ValueError:\n",
    "                pass  # Already had 'Other'\n",
    "            out[col] = out[col].where(out[col].isin(topN), 'Other')\n",
    "            out[col] = out[col].cat.remove_unused_categories()\n",
    "        if verbose > 1:\n",
    "            print('\\n\\t'.join(out[col].value_counts(dropna=False, sort=False)\\\n",
    "                              .to_string().split('\\n')))\n",
    "        elif verbose > 0:\n",
    "            print()\n",
    "    if drop_useless is True:\n",
    "        drop_singletons(out)\n",
    "    return out"
   ]
  },
  {
   "cell_type": "markdown",
   "metadata": {},
   "source": [
    "This should drop 'B' as a singleton, bin the two continuous cols, and convert 'C' into 'foo3', 'foo4', and 'Other'."
   ]
  },
  {
   "cell_type": "code",
   "execution_count": null,
   "metadata": {},
   "outputs": [
    {
     "name": "stdout",
     "output_type": "stream",
     "text": [
      "A:\n",
      "\t(-0.001, 2.0]    3\n",
      "\t(2.0, 4.0]       2\n",
      "B:\n",
      "\t(-0.001, 1.0]    5\n",
      "C:\n",
      "\tfoo1     1\n",
      "\tfoo5     1\n",
      "\tOther    3\n",
      "D:\n",
      "\t(2008-12-31 23:59:59.999999999, 2009-01-05]    3\n",
      "\t(2009-01-05, 2009-01-07]                       2\n",
      "  DROPPED ['B'] because < 2 vals each.\n"
     ]
    }
   ],
   "source": [
    "df = makeMixedDataFrame()\n",
    "df = discretize(df, nbins=2)"
   ]
  },
  {
   "cell_type": "code",
   "execution_count": null,
   "metadata": {},
   "outputs": [],
   "source": [
    "assert all(df.columns == ['A', 'C', 'D'])"
   ]
  },
  {
   "cell_type": "markdown",
   "metadata": {},
   "source": [
    "This is more of a \"visual\" test - no `assert` statement to fail."
   ]
  },
  {
   "cell_type": "code",
   "execution_count": null,
   "metadata": {},
   "outputs": [
    {
     "data": {
      "text/plain": [
       "[(-0.001, 2.0], (2.0, 4.0]]\n",
       "Categories (2, interval[float64]): [(-0.001, 2.0] < (2.0, 4.0]]"
      ]
     },
     "execution_count": null,
     "metadata": {},
     "output_type": "execute_result"
    }
   ],
   "source": [
    "df.A.unique()"
   ]
  },
  {
   "cell_type": "code",
   "execution_count": null,
   "metadata": {},
   "outputs": [],
   "source": [
    "# Order may not be stable, but df is fixed, so try.\n",
    "u = df.C.unique()\n",
    "assert 'Other' in u and len(u) == 3"
   ]
  },
  {
   "cell_type": "code",
   "execution_count": null,
   "metadata": {},
   "outputs": [
    {
     "data": {
      "text/plain": [
       "['foo1', 'Other', 'foo5']\n",
       "Categories (3, object): ['foo1', 'Other', 'foo5']"
      ]
     },
     "execution_count": null,
     "metadata": {},
     "output_type": "execute_result"
    }
   ],
   "source": [
    "df.C.unique()"
   ]
  },
  {
   "cell_type": "markdown",
   "metadata": {},
   "source": [
    "## Plotting helpers..."
   ]
  },
  {
   "cell_type": "code",
   "execution_count": null,
   "metadata": {},
   "outputs": [],
   "source": []
  }
 ],
 "metadata": {
  "kernelspec": {
   "display_name": "Python 3 [profile=peregrine]",
   "language": "python",
   "name": "python3"
  }
 },
 "nbformat": 4,
 "nbformat_minor": 4
}
